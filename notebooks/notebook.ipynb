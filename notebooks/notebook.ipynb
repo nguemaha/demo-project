{
 "cells": [
  {
   "cell_type": "code",
   "execution_count": null,
   "id": "b3afc299",
   "metadata": {
    "vscode": {
     "languageId": "plaintext"
    }
   },
   "outputs": [],
   "source": [
    "def add(a, b):\n",
    "    return a + b\n",
    "\n",
    "\n",
    "def substract(a, b):\n",
    "    return a - b\n",
    "\n",
    "\n",
    "print(add(4, 6))\n",
    "print(substract(4, 5))\n"
   ]
  }
 ],
 "metadata": {
  "language_info": {
   "name": "python"
  }
 },
 "nbformat": 4,
 "nbformat_minor": 5
}
